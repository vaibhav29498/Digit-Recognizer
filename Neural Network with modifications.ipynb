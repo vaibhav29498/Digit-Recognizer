{
 "cells": [
  {
   "cell_type": "code",
   "execution_count": 1,
   "metadata": {
    "colab": {
     "autoexec": {
      "startup": false,
      "wait_interval": 0
     }
    },
    "colab_type": "code",
    "collapsed": true,
    "id": "rPBYqA-zktUz"
   },
   "outputs": [],
   "source": [
    "import os\n",
    "import numpy as np\n",
    "import tensorflow as tf\n",
    "import matplotlib.pyplot as plt\n",
    "import time\n",
    "\n",
    "tf.logging.set_verbosity(tf.logging.ERROR)\n",
    "%matplotlib inline"
   ]
  },
  {
   "cell_type": "code",
   "execution_count": 2,
   "metadata": {
    "colab": {
     "autoexec": {
      "startup": false,
      "wait_interval": 0
     },
     "base_uri": "https://localhost:8080/",
     "height": 323
    },
    "colab_type": "code",
    "executionInfo": {
     "elapsed": 1146,
     "status": "ok",
     "timestamp": 1531757947422,
     "user": {
      "displayName": "Vaibhav Jain",
      "photoUrl": "//lh5.googleusercontent.com/-TW70oLGKdm4/AAAAAAAAAAI/AAAAAAAAB9A/uaMFIQDez-s/s50-c-k-no/photo.jpg",
      "userId": "111963640914363981554"
     },
     "user_tz": -330
    },
    "id": "W36JfW5Ak9bj",
    "outputId": "db7acb81-fa59-4e87-c4d6-6494ba5b7ca1"
   },
   "outputs": [
    {
     "name": "stdout",
     "output_type": "stream",
     "text": [
      "name: \"/device:CPU:0\"\n",
      "device_type: \"CPU\"\n",
      "memory_limit: 268435456\n",
      "locality {\n",
      "}\n",
      "incarnation: 17102072345237929410\n",
      "\n",
      "name: \"/device:GPU:0\"\n",
      "device_type: \"GPU\"\n",
      "memory_limit: 11285974221\n",
      "locality {\n",
      "  bus_id: 1\n",
      "  links {\n",
      "  }\n",
      "}\n",
      "incarnation: 5694640176832128899\n",
      "physical_device_desc: \"device: 0, name: Tesla K80, pci bus id: 0000:00:04.0, compute capability: 3.7\"\n",
      "\n"
     ]
    }
   ],
   "source": [
    "from tensorflow.python.client import device_lib\n",
    "\n",
    "for x in device_lib.list_local_devices():\n",
    "    print(x)"
   ]
  },
  {
   "cell_type": "code",
   "execution_count": 3,
   "metadata": {
    "colab": {
     "autoexec": {
      "startup": false,
      "wait_interval": 0
     },
     "base_uri": "https://localhost:8080/",
     "height": 187
    },
    "colab_type": "code",
    "executionInfo": {
     "elapsed": 8170,
     "status": "ok",
     "timestamp": 1531757955769,
     "user": {
      "displayName": "Vaibhav Jain",
      "photoUrl": "//lh5.googleusercontent.com/-TW70oLGKdm4/AAAAAAAAAAI/AAAAAAAAB9A/uaMFIQDez-s/s50-c-k-no/photo.jpg",
      "userId": "111963640914363981554"
     },
     "user_tz": -330
    },
    "id": "s-ckmzxNktU6",
    "outputId": "211dfbbd-ea35-4238-858c-6cf48b0ad35e"
   },
   "outputs": [
    {
     "name": "stdout",
     "output_type": "stream",
     "text": [
      "Extracting MNIST_data/train-images-idx3-ubyte.gz\n",
      "Extracting MNIST_data/train-labels-idx1-ubyte.gz\n",
      "Extracting MNIST_data/t10k-images-idx3-ubyte.gz\n",
      "Extracting MNIST_data/t10k-labels-idx1-ubyte.gz\n",
      "Shape of training set: (55000, 784)\n",
      "Shape of training set labels: (55000, 10)\n",
      "Shape of validation set: (5000, 784)\n",
      "Shape of validation set labels: (5000, 10)\n",
      "Shape of test set: (10000, 784)\n",
      "Shape of test set labels: (10000, 10)\n"
     ]
    }
   ],
   "source": [
    "from tensorflow.examples.tutorials.mnist import input_data\n",
    "mnist = input_data.read_data_sets(\"MNIST_data/\", one_hot=True)\n",
    "\n",
    "print('Shape of training set:', mnist.train.images.shape)\n",
    "print('Shape of training set labels:', mnist.train.labels.shape)\n",
    "print('Shape of validation set:', mnist.validation.images.shape)\n",
    "print('Shape of validation set labels:', mnist.validation.labels.shape)\n",
    "print('Shape of test set:', mnist.test.images.shape)\n",
    "print('Shape of test set labels:', mnist.test.labels.shape)"
   ]
  },
  {
   "cell_type": "code",
   "execution_count": 4,
   "metadata": {
    "colab": {
     "autoexec": {
      "startup": false,
      "wait_interval": 0
     }
    },
    "colab_type": "code",
    "collapsed": true,
    "id": "cEG7CjjmktVC"
   },
   "outputs": [],
   "source": [
    "def create_placeholders():\n",
    "    X = tf.placeholder(tf.float32, shape=(784, None))\n",
    "    Y = tf.placeholder(tf.float32, shape=(None, 10))\n",
    "    return X,Y"
   ]
  },
  {
   "cell_type": "code",
   "execution_count": 5,
   "metadata": {
    "colab": {
     "autoexec": {
      "startup": false,
      "wait_interval": 0
     }
    },
    "colab_type": "code",
    "collapsed": true,
    "id": "12m-6QK2ktVF"
   },
   "outputs": [],
   "source": [
    "def initialize_parameters(layers_dims):\n",
    "    L = len(layers_dims)\n",
    "    parameters = {}\n",
    "    for l in range(1, L):\n",
    "        parameters['W' + str(l)] = tf.get_variable(shape=[layers_dims[l], layers_dims[l - 1]], initializer=tf.contrib.layers.xavier_initializer(seed=1), name='W' + str(l))\n",
    "        parameters['b' + str(l)] = tf.get_variable(shape=[layers_dims[l], 1], initializer=tf.zeros_initializer(), name='b' + str(l))\n",
    "    return parameters"
   ]
  },
  {
   "cell_type": "code",
   "execution_count": 6,
   "metadata": {
    "colab": {
     "autoexec": {
      "startup": false,
      "wait_interval": 0
     }
    },
    "colab_type": "code",
    "collapsed": true,
    "id": "_hSsvPFAktVI"
   },
   "outputs": [],
   "source": [
    "def forward_propagation(X, parameters):\n",
    "    L = len(parameters) // 2\n",
    "    values = {}\n",
    "    values['A0'] = X\n",
    "    for l in range(1, L):\n",
    "        values['Z' + str(l)] = tf.add(tf.matmul(parameters['W' + str(l)], values['A' + str(l - 1)]), parameters['b' + str(l)])\n",
    "        values['A' + str(l)] = tf.nn.relu(values['Z' + str(l)])\n",
    "    values['Z' + str(L)] = tf.add(tf.matmul(parameters['W' + str(L)], values['A' + str(L - 1)]), parameters['b' + str(L)])\n",
    "    return values['Z' + str(L)]"
   ]
  },
  {
   "cell_type": "code",
   "execution_count": 7,
   "metadata": {
    "colab": {
     "autoexec": {
      "startup": false,
      "wait_interval": 0
     }
    },
    "colab_type": "code",
    "collapsed": true,
    "id": "474nzlbYktVL"
   },
   "outputs": [],
   "source": [
    "def compute_cost(Y, Z, parameters, lambd):\n",
    "    Z = tf.transpose(Z)\n",
    "    cost = tf.reduce_mean(tf.nn.softmax_cross_entropy_with_logits_v2(logits=Z, labels=Y))\n",
    "    L = len(parameters) // 2\n",
    "    for l in range(L):\n",
    "        cost += lambd * tf.nn.l2_loss(parameters['W' + str(l + 1)])\n",
    "    return cost"
   ]
  },
  {
   "cell_type": "code",
   "execution_count": 8,
   "metadata": {
    "colab": {
     "autoexec": {
      "startup": false,
      "wait_interval": 0
     }
    },
    "colab_type": "code",
    "collapsed": true,
    "id": "9vzd49OdktVN"
   },
   "outputs": [],
   "source": [
    "def model(X_train, Y_train, X_valid, Y_valid, layers_dims, learning_rate, decay, epochs, minibatch_size=64, lambd=0, print_costs=False):    \n",
    "    tf.reset_default_graph()\n",
    "    m = X_train.shape[1]\n",
    "    X, Y = create_placeholders()\n",
    "    layers_dims = [784] + layers_dims + [10]\n",
    "    parameters = initialize_parameters(layers_dims)\n",
    "    Z = forward_propagation(X, parameters)\n",
    "    cost = compute_cost(Y, Z, parameters, lambd)\n",
    "    \n",
    "    global_step = tf.Variable(0, trainable=False)\n",
    "    learning_rate = tf.train.inverse_time_decay(learning_rate, global_step, decay_rate=decay, decay_steps=1)\n",
    "    optimizer = tf.train.GradientDescentOptimizer(learning_rate=learning_rate).minimize(cost, global_step=global_step)\n",
    "    costs = []\n",
    "    num_minibatches = m // minibatch_size\n",
    "    \n",
    "    init = tf.global_variables_initializer()\n",
    "    \n",
    "    with tf.Session() as sess:\n",
    "        sess.run(init)\n",
    "        initial_time = time.time()\n",
    "        for num in range(epochs):\n",
    "            permutation = np.random.RandomState(seed=num).permutation(m)\n",
    "            X_train, Y_train = X_train[:, permutation], Y_train[permutation, :].reshape(m, Y_train.shape[1])\n",
    "            epoch_cost = 0\n",
    "            for mb in range(num_minibatches):\n",
    "                _, minibatch_cost = sess.run([optimizer, cost], feed_dict={X: X_train[:, mb * minibatch_size : (mb + 1) * minibatch_size], Y: Y_train[mb * minibatch_size : (mb + 1) * minibatch_size, :]})\n",
    "                epoch_cost += minibatch_cost\n",
    "            if print_costs and num % 20 == 0:\n",
    "                print('Cost after epoch', num, '=', epoch_cost / num_minibatches)\n",
    "            if print_costs and num > 1:\n",
    "                costs.append(epoch_cost / num_minibatches)\n",
    "        \n",
    "        print('Time taken:', time.time()-initial_time, 'seconds')\n",
    "        if print_costs:\n",
    "            plt.plot(np.squeeze(costs))\n",
    "            plt.xlabel('Epoch number')\n",
    "            plt.ylabel('Cost')\n",
    "            plt.show()\n",
    "        \n",
    "        parameters = sess.run(parameters)\n",
    "        correct_predictions = tf.equal(tf.argmax(Y, axis=1), tf.argmax(Z))\n",
    "        accuracy = tf.reduce_mean(tf.cast(correct_predictions, 'float'))\n",
    "        print('Training Accuracy:', accuracy.eval({X: X_train, Y: Y_train}))\n",
    "        print('Validation Accuracy:', accuracy.eval({X: X_valid, Y: Y_valid}))\n",
    "        \n",
    "    return parameters"
   ]
  },
  {
   "cell_type": "code",
   "execution_count": 9,
   "metadata": {
    "colab": {
     "autoexec": {
      "startup": false,
      "wait_interval": 0
     },
     "base_uri": "https://localhost:8080/",
     "height": 500
    },
    "colab_type": "code",
    "executionInfo": {
     "elapsed": 432152,
     "status": "ok",
     "timestamp": 1531758393425,
     "user": {
      "displayName": "Vaibhav Jain",
      "photoUrl": "//lh5.googleusercontent.com/-TW70oLGKdm4/AAAAAAAAAAI/AAAAAAAAB9A/uaMFIQDez-s/s50-c-k-no/photo.jpg",
      "userId": "111963640914363981554"
     },
     "user_tz": -330
    },
    "id": "1g9Evr6FktVR",
    "outputId": "4df1e18a-45a9-478e-930a-a9471e39d216"
   },
   "outputs": [
    {
     "name": "stdout",
     "output_type": "stream",
     "text": [
      "Cost after epoch 0 = 0.6612323667936469\n",
      "Cost after epoch 20 = 0.1228492419138915\n",
      "Cost after epoch 40 = 0.11579117951730356\n",
      "Cost after epoch 60 = 0.1134086101032941\n",
      "Cost after epoch 80 = 0.11238146502182009\n",
      "Cost after epoch 100 = 0.11151403050795979\n",
      "Cost after epoch 120 = 0.11103114704314156\n",
      "Cost after epoch 140 = 0.1106287814303799\n",
      "Cost after epoch 160 = 0.11038508957492597\n",
      "Cost after epoch 180 = 0.11018638850576802\n",
      "Time taken: 430.5840196609497 seconds\n"
     ]
    },
    {
     "data": {
      "image/png": "[encoded data removed]",
      "text/plain": [
       "<matplotlib.figure.Figure at 0x7effee03a860>"
      ]
     },
     "metadata": {
      "tags": []
     },
     "output_type": "display_data"
    },
    {
     "name": "stdout",
     "output_type": "stream",
     "text": [
      "Training Accuracy: 0.9962182\n",
      "Validation Accuracy: 0.9818\n"
     ]
    }
   ],
   "source": [
    "parameters = model(mnist.train.images.T, mnist.train.labels, mnist.validation.images.T, mnist.validation.labels, layers_dims=[100, 20], learning_rate=1.0, decay=0.001, epochs=200, lambd=0.001, print_costs=True)"
   ]
  },
  {
   "cell_type": "code",
   "execution_count": 10,
   "metadata": {
    "colab": {
     "autoexec": {
      "startup": false,
      "wait_interval": 0
     },
     "base_uri": "https://localhost:8080/",
     "height": 34
    },
    "colab_type": "code",
    "executionInfo": {
     "elapsed": 1104,
     "status": "ok",
     "timestamp": 1531758394582,
     "user": {
      "displayName": "Vaibhav Jain",
      "photoUrl": "//lh5.googleusercontent.com/-TW70oLGKdm4/AAAAAAAAAAI/AAAAAAAAB9A/uaMFIQDez-s/s50-c-k-no/photo.jpg",
      "userId": "111963640914363981554"
     },
     "user_tz": -330
    },
    "id": "lNmzS648EzHb",
    "outputId": "df074706-429a-4e5a-a589-4428782a000d"
   },
   "outputs": [
    {
     "name": "stdout",
     "output_type": "stream",
     "text": [
      "Test Accuracy: 0.981\n"
     ]
    }
   ],
   "source": [
    "def test(X_test, Y_test, parameters):\n",
    "    X = tf.placeholder(tf.float32, shape=X_test.shape)\n",
    "    Z = forward_propagation(X, parameters)\n",
    "    correct_predictions = tf.equal(tf.argmax(Y_test, axis=1), tf.argmax(Z))\n",
    "    accuracy = tf.reduce_mean(tf.cast(correct_predictions, 'float'))\n",
    "    with tf.Session() as sess:\n",
    "      \tprint('Test Accuracy:', accuracy.eval({X: X_test}))\n",
    "\n",
    "test(mnist.test.images.T, mnist.test.labels, parameters)"
   ]
  }
 ],
 "metadata": {
  "accelerator": "GPU",
  "colab": {
   "collapsed_sections": [],
   "default_view": {},
   "name": "Neural Network with modifications.ipynb",
   "provenance": [],
   "version": "0.3.2",
   "views": {}
  },
  "kernelspec": {
   "display_name": "Python 3",
   "language": "python",
   "name": "python3"
  },
  "language_info": {
   "codemirror_mode": {
    "name": "ipython",
    "version": 3
   },
   "file_extension": ".py",
   "mimetype": "text/x-python",
   "name": "python",
   "nbconvert_exporter": "python",
   "pygments_lexer": "ipython3",
   "version": "3.6.4"
  }
 },
 "nbformat": 4,
 "nbformat_minor": 1
}
