{
 "cells": [
  {
   "cell_type": "code",
   "execution_count": 1,
   "metadata": {
    "collapsed": true
   },
   "outputs": [],
   "source": [
    "import numpy as np\n",
    "import tensorflow as tf\n",
    "import matplotlib.pyplot as plt\n",
    "import csv\n",
    "\n",
    "%matplotlib inline"
   ]
  },
  {
   "cell_type": "code",
   "execution_count": 2,
   "metadata": {},
   "outputs": [
    {
     "name": "stdout",
     "output_type": "stream",
     "text": [
      "Shape of X_train: (784, 42000)\n",
      "Shape of Y_train: (1, 42000)\n",
      "Shape of X_test: (784, 28000)\n"
     ]
    }
   ],
   "source": [
    "X_train = []\n",
    "Y_train = []\n",
    "X_test = []\n",
    "\n",
    "with open('train.csv', 'r') as train_file:\n",
    "    reader = csv.reader(train_file)\n",
    "    next(reader)\n",
    "    for row in reader:\n",
    "        Y_train.append(int(row[0]))\n",
    "        X_train.append(list(map(int, row[1:])))\n",
    "\n",
    "with open('test.csv', 'r') as test_file:\n",
    "    reader = csv.reader(test_file)\n",
    "    next(reader)\n",
    "    for row in reader:\n",
    "        X_test.append(list(map(int, row)))\n",
    "\n",
    "X_train = np.array(X_train).T\n",
    "Y_train = np.array(Y_train).reshape(1, -1)\n",
    "X_test = np.array(X_test).T\n",
    "\n",
    "print('Shape of X_train:', X_train.shape)\n",
    "print('Shape of Y_train:', Y_train.shape)\n",
    "print('Shape of X_test:', X_test.shape)"
   ]
  },
  {
   "cell_type": "code",
   "execution_count": 3,
   "metadata": {},
   "outputs": [
    {
     "name": "stdout",
     "output_type": "stream",
     "text": [
      "This digit is 7\n"
     ]
    },
    {
     "data": {
      "image/png": "[encoded data removed]",
      "text/plain": [
       "<matplotlib.figure.Figure at 0x1eba591bfd0>"
      ]
     },
     "metadata": {},
     "output_type": "display_data"
    }
   ],
   "source": [
    "index = 29498\n",
    "plt.imshow(X_train[:, index].reshape(28, 28))\n",
    "print('This digit is', Y_train[0, index])"
   ]
  },
  {
   "cell_type": "code",
   "execution_count": 4,
   "metadata": {
    "collapsed": true
   },
   "outputs": [],
   "source": [
    "def create_placeholders(n_x, n_y):\n",
    "    X = tf.placeholder(tf.float32, shape=(n_x, None))\n",
    "    Y = tf.placeholder(tf.float32, shape=(n_y, None))\n",
    "    return X,Y"
   ]
  },
  {
   "cell_type": "code",
   "execution_count": 5,
   "metadata": {
    "collapsed": true
   },
   "outputs": [],
   "source": [
    "def initialize_parameters(layers_dims):\n",
    "    L = len(layers_dims)\n",
    "    parameters = {}\n",
    "    for l in range(1, L):\n",
    "        parameters['W' + str(l)] = tf.get_variable(shape=[layers_dims[l], layers_dims[l - 1]], initializer=tf.contrib.layers.xavier_initializer(), name='W' + str(l))\n",
    "        parameters['b' + str(l)] = tf.get_variable(shape=[layers_dims[l], 1], initializer=tf.zeros_initializer(), name='b' + str(l))\n",
    "    return parameters"
   ]
  },
  {
   "cell_type": "code",
   "execution_count": 6,
   "metadata": {
    "collapsed": true
   },
   "outputs": [],
   "source": [
    "def forward_propagation(X, parameters):\n",
    "    L = len(parameters) // 2\n",
    "    values = {}\n",
    "    dropout = {}\n",
    "    values['A0'] = X\n",
    "    for l in range(1, L):\n",
    "        values['Z' + str(l)] = tf.add(tf.matmul(parameters['W' + str(l)], values['A' + str(l - 1)]), parameters['b' + str(l)])\n",
    "        dropout['l'] = tf.nn.dropout(values['Z' + str(l)], 0.9)\n",
    "        values['A' + str(l)] = tf.nn.relu(dropout['l'])\n",
    "    values['Z' + str(L)] = tf.add(tf.matmul(parameters['W' + str(L)], values['A' + str(L - 1)]), parameters['b' + str(L)])\n",
    "    return values['Z' + str(L)]"
   ]
  },
  {
   "cell_type": "code",
   "execution_count": 7,
   "metadata": {
    "collapsed": true
   },
   "outputs": [],
   "source": [
    "def compute_cost(Y, Z):\n",
    "    Y = tf.transpose(Y)\n",
    "    Z = tf.transpose(Z)\n",
    "    cost = tf.reduce_mean(tf.nn.softmax_cross_entropy_with_logits_v2(logits=Z, labels=Y))\n",
    "    return cost"
   ]
  },
  {
   "cell_type": "code",
   "execution_count": 8,
   "metadata": {
    "collapsed": true
   },
   "outputs": [],
   "source": [
    "def model(X_train, Y_train, layers_dims=[50, 25], learning_rate=0.001, epochs=2000, minibatch_size=128, print_costs=False):    \n",
    "    tf.reset_default_graph()\n",
    "    Y_train = np.eye(10)[Y_train].T\n",
    "    n_x, m = X_train.shape\n",
    "    n_y = Y_train.shape[0]\n",
    "    X, Y = create_placeholders(n_x, n_y)\n",
    "    layers_dims = [n_x] + layers_dims + [n_y]\n",
    "    parameters = initialize_parameters(layers_dims)\n",
    "    Z = forward_propagation(X, parameters)\n",
    "    cost = compute_cost(Y, Z)\n",
    "    \n",
    "    optimizer = tf.train.AdamOptimizer(learning_rate=learning_rate).minimize(cost)\n",
    "    costs = []\n",
    "    num_minibatches = m // minibatch_size\n",
    "    \n",
    "    init = tf.global_variables_initializer()\n",
    "    \n",
    "    with tf.Session() as sess:\n",
    "        sess.run(init)\n",
    "        for num in range(epochs):\n",
    "            permutation = np.random.permutation(m)\n",
    "            X_train, Y_train = X_train[:, permutation], Y_train[:, permutation].reshape(Y_train.shape[0], m)\n",
    "            epoch_cost = 0\n",
    "            for mb in range(num_minibatches):\n",
    "                _, minibatch_cost = sess.run([optimizer, cost], feed_dict={X: X_train[:, mb * minibatch_size : (mb + 1) * minibatch_size], Y: Y_train[:, mb * minibatch_size : (mb + 1) * minibatch_size]})\n",
    "                epoch_cost += minibatch_cost\n",
    "            if print_costs and num % 10 == 0:\n",
    "                print('Cost after epoch', num, '=', epoch_cost)\n",
    "            if print_costs and num > 1:\n",
    "                costs.append(epoch_cost)\n",
    "        if print_costs:\n",
    "            plt.plot(np.squeeze(costs))\n",
    "            plt.xlabel('Epoch number')\n",
    "            plt.ylabel('Cost')\n",
    "            plt.show()\n",
    "        \n",
    "        parameters = sess.run(parameters)\n",
    "        correct_predictions = tf.equal(tf.argmax(Y), tf.argmax(Z))\n",
    "        accuracy = tf.reduce_mean(tf.cast(correct_predictions, 'float'))\n",
    "        print('Accuracy:', accuracy.eval({X: X_train, Y: Y_train}))\n",
    "        \n",
    "        return parameters"
   ]
  },
  {
   "cell_type": "code",
   "execution_count": 9,
   "metadata": {},
   "outputs": [
    {
     "name": "stdout",
     "output_type": "stream",
     "text": [
      "Cost after epoch 0 = 1143.9593668\n",
      "Cost after epoch 10 = 106.313978001\n",
      "Cost after epoch 20 = 53.9066215139\n",
      "Cost after epoch 30 = 36.7651854362\n",
      "Cost after epoch 40 = 26.1473129699\n",
      "Cost after epoch 50 = 22.1551836524\n",
      "Cost after epoch 60 = 17.1511454941\n",
      "Cost after epoch 70 = 17.3002565359\n",
      "Cost after epoch 80 = 15.7227728405\n",
      "Cost after epoch 90 = 13.3034281007\n",
      "Cost after epoch 100 = 13.1186356702\n",
      "Cost after epoch 110 = 10.7031972307\n",
      "Cost after epoch 120 = 11.8058643859\n",
      "Cost after epoch 130 = 11.7327493632\n",
      "Cost after epoch 140 = 8.82369802328\n",
      "Cost after epoch 150 = 10.1497717441\n",
      "Cost after epoch 160 = 9.40307470842\n",
      "Cost after epoch 170 = 9.01976033585\n",
      "Cost after epoch 180 = 8.57910030764\n",
      "Cost after epoch 190 = 8.1309273587\n",
      "Cost after epoch 200 = 7.66735381723\n",
      "Cost after epoch 210 = 8.02834438969\n",
      "Cost after epoch 220 = 8.05241736133\n",
      "Cost after epoch 230 = 7.58333356492\n",
      "Cost after epoch 240 = 6.19263244666\n",
      "Cost after epoch 250 = 7.55415132288\n",
      "Cost after epoch 260 = 6.83132935929\n",
      "Cost after epoch 270 = 6.93803642264\n",
      "Cost after epoch 280 = 6.73934762404\n",
      "Cost after epoch 290 = 7.15830386532\n",
      "Cost after epoch 300 = 5.2637789357\n",
      "Cost after epoch 310 = 8.49389941219\n",
      "Cost after epoch 320 = 5.97063168467\n",
      "Cost after epoch 330 = 7.03558941791\n",
      "Cost after epoch 340 = 6.58024050453\n",
      "Cost after epoch 350 = 6.44902402238\n",
      "Cost after epoch 360 = 5.74380916854\n",
      "Cost after epoch 370 = 6.80239775704\n",
      "Cost after epoch 380 = 6.25826605463\n",
      "Cost after epoch 390 = 6.37703836319\n"
     ]
    },
    {
     "data": {
      "image/png": "[encoded data removed]",
      "text/plain": [
       "<matplotlib.figure.Figure at 0x1ebd6cb6128>"
      ]
     },
     "metadata": {},
     "output_type": "display_data"
    },
    {
     "name": "stdout",
     "output_type": "stream",
     "text": [
      "Accuracy: 0.995595\n"
     ]
    }
   ],
   "source": [
    "parameters = model(X_train, Y_train, layers_dims=[100, 50, 20], epochs=400, print_costs=True)"
   ]
  },
  {
   "cell_type": "code",
   "execution_count": 10,
   "metadata": {
    "collapsed": true
   },
   "outputs": [],
   "source": [
    "def predict(X_data, parameters):\n",
    "    n_x = X_data.shape[0]\n",
    "    X = tf.placeholder(tf.float32, shape=X_data.shape)\n",
    "    layers_dims = [n_x] + [50,25] + [10]\n",
    "    Z = forward_propagation(X, parameters)\n",
    "    Y = tf.argmax(Z)\n",
    "    with tf.Session() as sess:\n",
    "        predictions = sess.run(Y, feed_dict={X: X_data})\n",
    "    return predictions"
   ]
  },
  {
   "cell_type": "code",
   "execution_count": 11,
   "metadata": {
    "collapsed": true
   },
   "outputs": [],
   "source": [
    "Y = predict(X_test, parameters)"
   ]
  },
  {
   "cell_type": "code",
   "execution_count": 12,
   "metadata": {},
   "outputs": [],
   "source": [
    "Y = np.column_stack((np.arange(1, 28001), Y)).astype(int)\n",
    "np.savetxt('submission.csv', Y, fmt='%i', header='ImageId,Label', comments='', delimiter=',')"
   ]
  }
 ],
 "metadata": {
  "kernelspec": {
   "display_name": "Python 3",
   "language": "python",
   "name": "python3"
  },
  "language_info": {
   "codemirror_mode": {
    "name": "ipython",
    "version": 3
   },
   "file_extension": ".py",
   "mimetype": "text/x-python",
   "name": "python",
   "nbconvert_exporter": "python",
   "pygments_lexer": "ipython3",
   "version": "3.6.4"
  }
 },
 "nbformat": 4,
 "nbformat_minor": 2
}
