{
 "cells": [
  {
   "cell_type": "code",
   "execution_count": 1,
   "metadata": {
    "colab": {
     "autoexec": {
      "startup": false,
      "wait_interval": 0
     }
    },
    "colab_type": "code",
    "collapsed": true,
    "id": "ZzR4H3UrV3sU"
   },
   "outputs": [],
   "source": [
    "import os\n",
    "import numpy as np\n",
    "import tensorflow as tf\n",
    "import matplotlib.pyplot as plt\n",
    "import time\n",
    "\n",
    "tf.logging.set_verbosity(tf.logging.ERROR)\n",
    "%matplotlib inline"
   ]
  },
  {
   "cell_type": "code",
   "execution_count": 2,
   "metadata": {
    "colab": {
     "autoexec": {
      "startup": false,
      "wait_interval": 0
     },
     "base_uri": "https://localhost:8080/",
     "height": 323
    },
    "colab_type": "code",
    "executionInfo": {
     "elapsed": 1194,
     "status": "ok",
     "timestamp": 1531774071065,
     "user": {
      "displayName": "Vaibhav Jain",
      "photoUrl": "//lh5.googleusercontent.com/-TW70oLGKdm4/AAAAAAAAAAI/AAAAAAAAB9A/uaMFIQDez-s/s50-c-k-no/photo.jpg",
      "userId": "111963640914363981554"
     },
     "user_tz": -330
    },
    "id": "t415tbHNWRbz",
    "outputId": "ea671562-e8a4-4925-ff6e-427a38df3519"
   },
   "outputs": [
    {
     "name": "stdout",
     "output_type": "stream",
     "text": [
      "name: \"/device:CPU:0\"\n",
      "device_type: \"CPU\"\n",
      "memory_limit: 268435456\n",
      "locality {\n",
      "}\n",
      "incarnation: 4665215628361976762\n",
      "\n",
      "name: \"/device:GPU:0\"\n",
      "device_type: \"GPU\"\n",
      "memory_limit: 235012096\n",
      "locality {\n",
      "  bus_id: 1\n",
      "  links {\n",
      "  }\n",
      "}\n",
      "incarnation: 15906718299903011359\n",
      "physical_device_desc: \"device: 0, name: Tesla K80, pci bus id: 0000:00:04.0, compute capability: 3.7\"\n",
      "\n"
     ]
    }
   ],
   "source": [
    "from tensorflow.python.client import device_lib\n",
    "\n",
    "for x in device_lib.list_local_devices():\n",
    "    print(x)"
   ]
  },
  {
   "cell_type": "code",
   "execution_count": 3,
   "metadata": {
    "colab": {
     "autoexec": {
      "startup": false,
      "wait_interval": 0
     },
     "base_uri": "https://localhost:8080/",
     "height": 187
    },
    "colab_type": "code",
    "executionInfo": {
     "elapsed": 7826,
     "status": "ok",
     "timestamp": 1531774079030,
     "user": {
      "displayName": "Vaibhav Jain",
      "photoUrl": "//lh5.googleusercontent.com/-TW70oLGKdm4/AAAAAAAAAAI/AAAAAAAAB9A/uaMFIQDez-s/s50-c-k-no/photo.jpg",
      "userId": "111963640914363981554"
     },
     "user_tz": -330
    },
    "id": "Dx9kofkHWViA",
    "outputId": "470eb20f-b0c2-4ada-c3ac-20b338981695"
   },
   "outputs": [
    {
     "name": "stdout",
     "output_type": "stream",
     "text": [
      "Extracting MNIST_data/train-images-idx3-ubyte.gz\n",
      "Extracting MNIST_data/train-labels-idx1-ubyte.gz\n",
      "Extracting MNIST_data/t10k-images-idx3-ubyte.gz\n",
      "Extracting MNIST_data/t10k-labels-idx1-ubyte.gz\n",
      "Shape of training set: (55000, 784)\n",
      "Shape of training set labels: (55000, 10)\n",
      "Shape of validation set: (5000, 784)\n",
      "Shape of validation set labels: (5000, 10)\n",
      "Shape of test set: (10000, 784)\n",
      "Shape of test set labels: (10000, 10)\n"
     ]
    }
   ],
   "source": [
    "from tensorflow.examples.tutorials.mnist import input_data\n",
    "mnist = input_data.read_data_sets(\"MNIST_data/\", one_hot=True)\n",
    "\n",
    "print('Shape of training set:', mnist.train.images.shape)\n",
    "print('Shape of training set labels:', mnist.train.labels.shape)\n",
    "print('Shape of validation set:', mnist.validation.images.shape)\n",
    "print('Shape of validation set labels:', mnist.validation.labels.shape)\n",
    "print('Shape of test set:', mnist.test.images.shape)\n",
    "print('Shape of test set labels:', mnist.test.labels.shape)"
   ]
  },
  {
   "cell_type": "code",
   "execution_count": 4,
   "metadata": {
    "colab": {
     "autoexec": {
      "startup": false,
      "wait_interval": 0
     }
    },
    "colab_type": "code",
    "collapsed": true,
    "id": "QlhSZ8yzV3sj"
   },
   "outputs": [],
   "source": [
    "def create_placeholders(n_h, n_w, n_c, n_y):\n",
    "    X = tf.placeholder(shape=(None, n_h, n_w, n_c), dtype=tf.float32)\n",
    "    Y = tf.placeholder(shape=(None, n_y), dtype=tf.int64)\n",
    "    return (X, Y)"
   ]
  },
  {
   "cell_type": "code",
   "execution_count": 5,
   "metadata": {
    "colab": {
     "autoexec": {
      "startup": false,
      "wait_interval": 0
     }
    },
    "colab_type": "code",
    "collapsed": true,
    "id": "QWCG-3T_V3so"
   },
   "outputs": [],
   "source": [
    "def initialize_parameters(layers):\n",
    "    l = len(layers)\n",
    "    parameters = {}\n",
    "    for i in range(l):\n",
    "        parameters['W' + str(i + 1)] = tf.get_variable(name='W' + str(i + 1), shape=layers[i], initializer=tf.contrib.layers.xavier_initializer(seed=1))\n",
    "    return parameters"
   ]
  },
  {
   "cell_type": "code",
   "execution_count": 6,
   "metadata": {
    "colab": {
     "autoexec": {
      "startup": false,
      "wait_interval": 0
     }
    },
    "colab_type": "code",
    "collapsed": true,
    "id": "Z9zs-FsgV3sr"
   },
   "outputs": [],
   "source": [
    "def forward_propagation(X, parameters):\n",
    "    A_prev = X\n",
    "    l = len(parameters)\n",
    "    for i in range(l):\n",
    "        Z = tf.nn.conv2d(A_prev, parameters['W' + str(i + 1)], strides=[1, 1, 1, 1], padding='SAME', name='Z' + str(i + 1))\n",
    "        A = tf.nn.relu(Z, name='A' + str(i + 1))\n",
    "        P = tf.nn.max_pool(A, ksize=[1, 4, 4, 1], strides=[1, 1, 1, 1], padding='SAME', name='P' + str(i + 1))\n",
    "        A_prev = P\n",
    "    P = tf.contrib.layers.flatten(P)\n",
    "    Z = tf.contrib.layers.fully_connected(P, num_outputs=10, activation_fn=None)\n",
    "    return Z"
   ]
  },
  {
   "cell_type": "code",
   "execution_count": 7,
   "metadata": {
    "colab": {
     "autoexec": {
      "startup": false,
      "wait_interval": 0
     }
    },
    "colab_type": "code",
    "collapsed": true,
    "id": "zWJ9FduNV3sv"
   },
   "outputs": [],
   "source": [
    "def compute_cost(Z, Y):\n",
    "    return tf.reduce_mean(tf.nn.softmax_cross_entropy_with_logits(logits=Z, labels=Y))"
   ]
  },
  {
   "cell_type": "code",
   "execution_count": 8,
   "metadata": {
    "colab": {
     "autoexec": {
      "startup": false,
      "wait_interval": 0
     }
    },
    "colab_type": "code",
    "collapsed": true,
    "id": "xa2NauozV3sy"
   },
   "outputs": [],
   "source": [
    "def cnn(X_train, Y_train, X_valid, Y_valid, X_test, Y_test, layers, learning_rate, num_epochs, minibatch_size=64, print_costs=False):\n",
    "    tf.reset_default_graph()\n",
    "    m, n_h, n_w, n_c = X_train.shape\n",
    "    n_y = Y_train.shape[1]\n",
    "    X, Y = create_placeholders(n_h, n_w, n_c, n_y)\n",
    "    parameters = initialize_parameters(layers)\n",
    "    Z = forward_propagation(X, parameters)\n",
    "    cost = compute_cost(Z, Y)\n",
    "    costs = []\n",
    "    optimizer = tf.train.GradientDescentOptimizer(learning_rate=learning_rate).minimize(cost)\n",
    "    init = tf.global_variables_initializer()\n",
    "    \n",
    "    num_minibatches = m // minibatch_size\n",
    "    \n",
    "    with tf.Session() as sess:\n",
    "        sess.run(init)\n",
    "        initial_time = time.time()\n",
    "        for num in range(num_epochs):\n",
    "            permutation = np.random.RandomState(seed=num).permutation(m)\n",
    "            X_train, Y_train = X_train[permutation, :], Y_train[permutation, :]\n",
    "            epoch_cost = 0\n",
    "            for mb in range(num_minibatches):\n",
    "                _, minibatch_cost = sess.run([optimizer, cost], feed_dict={X: X_train[mb * minibatch_size : (mb + 1) * minibatch_size], Y: Y_train[mb * minibatch_size : (mb + 1) * minibatch_size]})\n",
    "                epoch_cost += minibatch_cost\n",
    "            costs.append(epoch_cost / num_minibatches)\n",
    "            \n",
    "            if print_costs and num % 10 == 0:\n",
    "                print('Cost after epoch', num, '=', epoch_cost / num_minibatches)\n",
    "        \n",
    "        print('Time taken:', time.time() - initial_time, 'seconds')\n",
    "        plt.plot(costs)\n",
    "        plt.xlabel('Epochs')\n",
    "        plt.ylabel('Cost')\n",
    "        plt.show()\n",
    "        par = sess.run(parameters)\n",
    "        \n",
    "        correct_predictions = tf.equal(tf.argmax(Y, axis=1), tf.argmax(Z, axis=1))\n",
    "        accuracy = tf.reduce_mean(tf.cast(correct_predictions, 'float'))\n",
    "        cummulative_accuracy = 0.0\n",
    "        batches = m // 50\n",
    "        for i in range(batches):\n",
    "            cummulative_accuracy += accuracy.eval({X: X_train[i * 50 : (i + 1) * 50], Y: Y_train[i * 50 : (i + 1) * 50]})\n",
    "        print('Training Accuracy:', cummulative_accuracy / batches)\n",
    "        cummulative_accuracy = 0.0\n",
    "        batches = Y_valid.shape[0] // 50\n",
    "        for i in range(batches):\n",
    "            cummulative_accuracy += accuracy.eval({X: X_valid[i * 50 : (i + 1) * 50], Y: Y_valid[i * 50 : (i + 1) * 50]})\n",
    "        print('Validation Accuracy:', cummulative_accuracy / batches)\n",
    "        cummulative_accuracy = 0.0\n",
    "        batches = Y_test.shape[0] // 50\n",
    "        for i in range(batches):\n",
    "            cummulative_accuracy += accuracy.eval({X: X_test[i * 50 : (i + 1) * 50], Y: Y_test[i * 50 : (i + 1) * 50]})\n",
    "        print('Test Accuracy:', cummulative_accuracy / batches)\n",
    "    \n",
    "    return par"
   ]
  },
  {
   "cell_type": "code",
   "execution_count": 9,
   "metadata": {
    "colab": {
     "autoexec": {
      "startup": false,
      "wait_interval": 0
     },
     "base_uri": "https://localhost:8080/",
     "height": 483
    },
    "colab_type": "code",
    "executionInfo": {
     "elapsed": 316902,
     "status": "ok",
     "timestamp": 1531774401257,
     "user": {
      "displayName": "Vaibhav Jain",
      "photoUrl": "//lh5.googleusercontent.com/-TW70oLGKdm4/AAAAAAAAAAI/AAAAAAAAB9A/uaMFIQDez-s/s50-c-k-no/photo.jpg",
      "userId": "111963640914363981554"
     },
     "user_tz": -330
    },
    "id": "lpcZ14ZZV3s1",
    "outputId": "24b1fa0b-0487-4e7b-e927-a9d72c0dd548"
   },
   "outputs": [
    {
     "name": "stdout",
     "output_type": "stream",
     "text": [
      "Cost after epoch 0 = 0.3552634672926385\n",
      "Cost after epoch 10 = 0.04050184973058583\n",
      "Cost after epoch 20 = 0.030107468136807695\n",
      "Cost after epoch 30 = 0.0237725897118978\n",
      "Cost after epoch 40 = 0.020254375320734302\n",
      "Cost after epoch 50 = 0.01749273020420848\n",
      "Cost after epoch 60 = 0.015021866284530977\n",
      "Cost after epoch 70 = 0.01217675008166406\n",
      "Time taken: 312.7884006500244 seconds\n"
     ]
    },
    {
     "data": {
      "image/png": "[encoded data removed]",
      "text/plain": [
       "<matplotlib.figure.Figure at 0x7f124e05d2b0>"
      ]
     },
     "metadata": {
      "tags": []
     },
     "output_type": "display_data"
    },
    {
     "name": "stdout",
     "output_type": "stream",
     "text": [
      "Training Accuracy: 0.9974545475569638\n",
      "Validation Accuracy: 0.9888000053167343\n",
      "Test Accuracy: 0.9907000026106835\n"
     ]
    }
   ],
   "source": [
    "par = cnn(mnist.train.images.reshape(-1, 28, 28, 1), mnist.train.labels, mnist.validation.images.reshape(-1, 28, 28, 1), mnist.validation.labels, mnist.test.images.reshape(-1, 28, 28, 1), mnist.test.labels, layers=[[6, 6, 1, 10], [4, 4, 10, 5]], num_epochs=80, learning_rate=0.01, print_costs=True)"
   ]
  }
 ],
 "metadata": {
  "accelerator": "GPU",
  "colab": {
   "default_view": {},
   "name": "Convolutional Neural Network.ipynb",
   "provenance": [],
   "version": "0.3.2",
   "views": {}
  },
  "kernelspec": {
   "display_name": "Python 3",
   "language": "python",
   "name": "python3"
  },
  "language_info": {
   "codemirror_mode": {
    "name": "ipython",
    "version": 3
   },
   "file_extension": ".py",
   "mimetype": "text/x-python",
   "name": "python",
   "nbconvert_exporter": "python",
   "pygments_lexer": "ipython3",
   "version": "3.6.4"
  }
 },
 "nbformat": 4,
 "nbformat_minor": 1
}
