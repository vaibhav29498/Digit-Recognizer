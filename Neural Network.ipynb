{
 "cells": [
  {
   "cell_type": "code",
   "execution_count": 1,
   "metadata": {
    "colab": {
     "autoexec": {
      "startup": false,
      "wait_interval": 0
     }
    },
    "colab_type": "code",
    "collapsed": true,
    "id": "jrQq3qzV7piH"
   },
   "outputs": [],
   "source": [
    "import numpy as np\n",
    "import tensorflow as tf\n",
    "import matplotlib.pyplot as plt\n",
    "import time\n",
    "\n",
    "%matplotlib inline"
   ]
  },
  {
   "cell_type": "code",
   "execution_count": 2,
   "metadata": {
    "colab": {
     "autoexec": {
      "startup": false,
      "wait_interval": 0
     },
     "base_uri": "https://localhost:8080/",
     "height": 513
    },
    "colab_type": "code",
    "executionInfo": {
     "elapsed": 10341,
     "status": "ok",
     "timestamp": 1531759444556,
     "user": {
      "displayName": "Vaibhav Jain",
      "photoUrl": "//lh5.googleusercontent.com/-TW70oLGKdm4/AAAAAAAAAAI/AAAAAAAAB9A/uaMFIQDez-s/s50-c-k-no/photo.jpg",
      "userId": "111963640914363981554"
     },
     "user_tz": -330
    },
    "id": "vAExho-j7piL",
    "outputId": "0d22757c-3e23-4d07-e2fe-99995c068dcd"
   },
   "outputs": [
    {
     "name": "stdout",
     "output_type": "stream",
     "text": [
      "WARNING:tensorflow:From <ipython-input-2-00e989d5ed40>:2: read_data_sets (from tensorflow.contrib.learn.python.learn.datasets.mnist) is deprecated and will be removed in a future version.\n",
      "Instructions for updating:\n",
      "Please use alternatives such as official/mnist/dataset.py from tensorflow/models.\n",
      "WARNING:tensorflow:From /usr/local/lib/python3.6/dist-packages/tensorflow/contrib/learn/python/learn/datasets/mnist.py:260: maybe_download (from tensorflow.contrib.learn.python.learn.datasets.base) is deprecated and will be removed in a future version.\n",
      "Instructions for updating:\n",
      "Please write your own downloading logic.\n",
      "WARNING:tensorflow:From /usr/local/lib/python3.6/dist-packages/tensorflow/contrib/learn/python/learn/datasets/mnist.py:262: extract_images (from tensorflow.contrib.learn.python.learn.datasets.mnist) is deprecated and will be removed in a future version.\n",
      "Instructions for updating:\n",
      "Please use tf.data to implement this functionality.\n",
      "Extracting MNIST_data/train-images-idx3-ubyte.gz\n",
      "WARNING:tensorflow:From /usr/local/lib/python3.6/dist-packages/tensorflow/contrib/learn/python/learn/datasets/mnist.py:267: extract_labels (from tensorflow.contrib.learn.python.learn.datasets.mnist) is deprecated and will be removed in a future version.\n",
      "Instructions for updating:\n",
      "Please use tf.data to implement this functionality.\n",
      "Extracting MNIST_data/train-labels-idx1-ubyte.gz\n",
      "WARNING:tensorflow:From /usr/local/lib/python3.6/dist-packages/tensorflow/contrib/learn/python/learn/datasets/mnist.py:110: dense_to_one_hot (from tensorflow.contrib.learn.python.learn.datasets.mnist) is deprecated and will be removed in a future version.\n",
      "Instructions for updating:\n",
      "Please use tf.one_hot on tensors.\n",
      "Extracting MNIST_data/t10k-images-idx3-ubyte.gz\n",
      "Extracting MNIST_data/t10k-labels-idx1-ubyte.gz\n",
      "WARNING:tensorflow:From /usr/local/lib/python3.6/dist-packages/tensorflow/contrib/learn/python/learn/datasets/mnist.py:290: DataSet.__init__ (from tensorflow.contrib.learn.python.learn.datasets.mnist) is deprecated and will be removed in a future version.\n",
      "Instructions for updating:\n",
      "Please use alternatives such as official/mnist/dataset.py from tensorflow/models.\n",
      "Shape of training set: (55000, 784)\n",
      "Shape of training set labels: (55000, 10)\n",
      "Shape of validation set: (5000, 784)\n",
      "Shape of validation set labels: (5000, 10)\n",
      "Shape of test set: (10000, 784)\n",
      "Shape of test set labels: (10000, 10)\n"
     ]
    }
   ],
   "source": [
    "from tensorflow.examples.tutorials.mnist import input_data\n",
    "mnist = input_data.read_data_sets(\"MNIST_data/\", one_hot=True)\n",
    "\n",
    "print('Shape of training set:', mnist.train.images.shape)\n",
    "print('Shape of training set labels:', mnist.train.labels.shape)\n",
    "print('Shape of validation set:', mnist.validation.images.shape)\n",
    "print('Shape of validation set labels:', mnist.validation.labels.shape)\n",
    "print('Shape of test set:', mnist.test.images.shape)\n",
    "print('Shape of test set labels:', mnist.test.labels.shape)"
   ]
  },
  {
   "cell_type": "code",
   "execution_count": 3,
   "metadata": {
    "colab": {
     "autoexec": {
      "startup": false,
      "wait_interval": 0
     }
    },
    "colab_type": "code",
    "collapsed": true,
    "id": "EP-8nWT37piS"
   },
   "outputs": [],
   "source": [
    "def create_placeholders():\n",
    "    X = tf.placeholder(tf.float32, shape=(784, None))\n",
    "    Y = tf.placeholder(tf.float32, shape=(None, 10))\n",
    "    return X,Y"
   ]
  },
  {
   "cell_type": "code",
   "execution_count": 4,
   "metadata": {
    "colab": {
     "autoexec": {
      "startup": false,
      "wait_interval": 0
     }
    },
    "colab_type": "code",
    "collapsed": true,
    "id": "SkTbWxfZ7piW"
   },
   "outputs": [],
   "source": [
    "def initialize_parameters(layers_dims):\n",
    "    L = len(layers_dims)\n",
    "    parameters = {}\n",
    "    for l in range(1, L):\n",
    "        parameters['W' + str(l)] = tf.get_variable(shape=[layers_dims[l], layers_dims[l - 1]], initializer=tf.contrib.layers.xavier_initializer(seed=1), name='W' + str(l))\n",
    "        parameters['b' + str(l)] = tf.get_variable(shape=[layers_dims[l], 1], initializer=tf.zeros_initializer(), name='b' + str(l))\n",
    "    return parameters"
   ]
  },
  {
   "cell_type": "code",
   "execution_count": 5,
   "metadata": {
    "colab": {
     "autoexec": {
      "startup": false,
      "wait_interval": 0
     }
    },
    "colab_type": "code",
    "collapsed": true,
    "id": "_8BRaD-C7piZ"
   },
   "outputs": [],
   "source": [
    "def forward_propagation(X, parameters):\n",
    "    L = len(parameters) // 2\n",
    "    values = {}\n",
    "    dropout = {}\n",
    "    values['A0'] = X\n",
    "    for l in range(1, L):\n",
    "        values['Z' + str(l)] = tf.add(tf.matmul(parameters['W' + str(l)], values['A' + str(l - 1)]), parameters['b' + str(l)])\n",
    "        values['A' + str(l)] = tf.nn.relu(values['Z' + str(l)])\n",
    "    values['Z' + str(L)] = tf.add(tf.matmul(parameters['W' + str(L)], values['A' + str(L - 1)]), parameters['b' + str(L)])\n",
    "    return values['Z' + str(L)]"
   ]
  },
  {
   "cell_type": "code",
   "execution_count": 6,
   "metadata": {
    "colab": {
     "autoexec": {
      "startup": false,
      "wait_interval": 0
     }
    },
    "colab_type": "code",
    "collapsed": true,
    "id": "Aug65EKv7pid"
   },
   "outputs": [],
   "source": [
    "def compute_cost(Y, Z):\n",
    "    Z = tf.transpose(Z)\n",
    "    cost = tf.reduce_mean(tf.nn.softmax_cross_entropy_with_logits_v2(logits=Z, labels=Y))\n",
    "    return cost"
   ]
  },
  {
   "cell_type": "code",
   "execution_count": 7,
   "metadata": {
    "colab": {
     "autoexec": {
      "startup": false,
      "wait_interval": 0
     }
    },
    "colab_type": "code",
    "collapsed": true,
    "id": "yzY78PWq7pig"
   },
   "outputs": [],
   "source": [
    "def model(X_train, Y_train, X_valid, Y_valid, layers_dims, learning_rate, epochs, minibatch_size=64, print_costs=False):    \n",
    "    tf.reset_default_graph()\n",
    "    m = X_train.shape[1]\n",
    "    X, Y = create_placeholders()\n",
    "    layers_dims = [784] + layers_dims + [10]\n",
    "    parameters = initialize_parameters(layers_dims)\n",
    "    Z = forward_propagation(X, parameters)\n",
    "    cost = compute_cost(Y, Z)\n",
    "    \n",
    "    optimizer = tf.train.GradientDescentOptimizer(learning_rate=learning_rate).minimize(cost)\n",
    "    costs = []\n",
    "    num_minibatches = m // minibatch_size\n",
    "    \n",
    "    init = tf.global_variables_initializer()\n",
    "    \n",
    "    with tf.Session() as sess:\n",
    "        sess.run(init)\n",
    "        initial_time = time.time()\n",
    "        for num in range(epochs):\n",
    "            permutation = np.random.RandomState(num).permutation(m)\n",
    "            X_train, Y_train = X_train[:, permutation], Y_train[permutation, :].reshape(m, Y_train.shape[1])\n",
    "            epoch_cost = 0\n",
    "            for mb in range(num_minibatches):\n",
    "                _, minibatch_cost = sess.run([optimizer, cost], feed_dict={X: X_train[:, mb * minibatch_size : (mb + 1) * minibatch_size], Y: Y_train[mb * minibatch_size : (mb + 1) * minibatch_size, :]})\n",
    "                epoch_cost += minibatch_cost\n",
    "            if print_costs and num % 50 == 0:\n",
    "                print('Cost after epoch', num, '=', epoch_cost / num_minibatches)\n",
    "            if print_costs and num > 1:\n",
    "                costs.append(epoch_cost / num_minibatches)\n",
    "        \n",
    "        print(\"Time taken:\", time.time()-initial_time, 'seconds')\n",
    "        if print_costs:\n",
    "            plt.plot(np.squeeze(costs))\n",
    "            plt.xlabel('Epoch number')\n",
    "            plt.ylabel('Cost')\n",
    "            plt.show()\n",
    "        \n",
    "        parameters = sess.run(parameters)\n",
    "        correct_predictions = tf.equal(tf.argmax(Y, axis=1), tf.argmax(Z))\n",
    "        accuracy = tf.reduce_mean(tf.cast(correct_predictions, 'float'))\n",
    "        print('Training Accuracy:', accuracy.eval({X: X_train, Y: Y_train}))\n",
    "        print('Validation Accuracy:', accuracy.eval({X: X_valid, Y: Y_valid}))\n",
    "        \n",
    "    return parameters"
   ]
  },
  {
   "cell_type": "code",
   "execution_count": 8,
   "metadata": {
    "colab": {
     "autoexec": {
      "startup": false,
      "wait_interval": 0
     },
     "base_uri": "https://localhost:8080/",
     "height": 466
    },
    "colab_type": "code",
    "executionInfo": {
     "elapsed": 578913,
     "status": "ok",
     "timestamp": 1531760669549,
     "user": {
      "displayName": "Vaibhav Jain",
      "photoUrl": "//lh5.googleusercontent.com/-TW70oLGKdm4/AAAAAAAAAAI/AAAAAAAAB9A/uaMFIQDez-s/s50-c-k-no/photo.jpg",
      "userId": "111963640914363981554"
     },
     "user_tz": -330
    },
    "id": "5rYPvTQ87pik",
    "outputId": "e2d93f60-fc77-405f-c5a3-c4e489b74654"
   },
   "outputs": [
    {
     "name": "stdout",
     "output_type": "stream",
     "text": [
      "Cost after epoch 0 = 1.1027125390430823\n",
      "Cost after epoch 50 = 0.04866497044216265\n",
      "Cost after epoch 100 = 0.015487246796742463\n",
      "Cost after epoch 150 = 0.00600465725123724\n",
      "Cost after epoch 200 = 0.003020286954213904\n",
      "Cost after epoch 250 = 0.001891599751973882\n",
      "Cost after epoch 300 = 0.0013315142292175761\n",
      "Cost after epoch 350 = 0.0010068814479591765\n",
      "Time taken: 577.1882834434509 seconds\n"
     ]
    },
    {
     "data": {
      "image/png": "[encoded data removed]",
      "text/plain": [
       "<matplotlib.figure.Figure at 0x7fa27fe725f8>"
      ]
     },
     "metadata": {
      "tags": []
     },
     "output_type": "display_data"
    },
    {
     "name": "stdout",
     "output_type": "stream",
     "text": [
      "Training Accuracy: 1.0\n",
      "Validation Accuracy: 0.977\n"
     ]
    }
   ],
   "source": [
    "parameters = model(mnist.train.images.T, mnist.train.labels, mnist.validation.images.T, mnist.validation.labels,learning_rate=0.01, layers_dims=[100, 20], epochs=400, print_costs=True)"
   ]
  },
  {
   "cell_type": "code",
   "execution_count": 9,
   "metadata": {
    "colab": {
     "autoexec": {
      "startup": false,
      "wait_interval": 0
     },
     "base_uri": "https://localhost:8080/",
     "height": 34
    },
    "colab_type": "code",
    "executionInfo": {
     "elapsed": 763,
     "status": "ok",
     "timestamp": 1531760702298,
     "user": {
      "displayName": "Vaibhav Jain",
      "photoUrl": "//lh5.googleusercontent.com/-TW70oLGKdm4/AAAAAAAAAAI/AAAAAAAAB9A/uaMFIQDez-s/s50-c-k-no/photo.jpg",
      "userId": "111963640914363981554"
     },
     "user_tz": -330
    },
    "id": "DF23FqEG7pip",
    "outputId": "e76b5f04-688f-4501-dea7-a817d619a423"
   },
   "outputs": [
    {
     "name": "stdout",
     "output_type": "stream",
     "text": [
      "Test Accuracy: 0.9764\n"
     ]
    }
   ],
   "source": [
    "def test(X_test, Y_test, parameters):\n",
    "    X = tf.placeholder(tf.float32, shape=X_test.shape)\n",
    "    Z = forward_propagation(X, parameters)\n",
    "    correct_predictions = tf.equal(tf.argmax(Y_test, axis=1), tf.argmax(Z))\n",
    "    accuracy = tf.reduce_mean(tf.cast(correct_predictions, 'float'))\n",
    "    with tf.Session() as sess:\n",
    "      \tprint('Test Accuracy:', accuracy.eval({X: X_test}))\n",
    "\n",
    "test(mnist.test.images.T, mnist.test.labels, parameters)"
   ]
  }
 ],
 "metadata": {
  "colab": {
   "default_view": {},
   "name": "Neural Network.ipynb",
   "provenance": [],
   "version": "0.3.2",
   "views": {}
  },
  "kernelspec": {
   "display_name": "Python 3",
   "language": "python",
   "name": "python3"
  },
  "language_info": {
   "codemirror_mode": {
    "name": "ipython",
    "version": 3
   },
   "file_extension": ".py",
   "mimetype": "text/x-python",
   "name": "python",
   "nbconvert_exporter": "python",
   "pygments_lexer": "ipython3",
   "version": "3.6.4"
  }
 },
 "nbformat": 4,
 "nbformat_minor": 1
}
